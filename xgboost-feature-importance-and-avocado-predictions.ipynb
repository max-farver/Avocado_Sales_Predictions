{
 "cells": [
  {
   "cell_type": "markdown",
   "metadata": {
    "_uuid": "6beb1d2918296b1f2ffce0fb66b07bd0910af12d"
   },
   "source": [
    "Feature importance, hyperparameter tuning and further usage of a ml model\n",
    "======================\n"
   ]
  },
  {
   "cell_type": "code",
   "execution_count": 1,
   "metadata": {
    "_cell_guid": "b1076dfc-b9ad-4769-8c92-a6c4dae69d19",
    "_uuid": "8f2839f25d086af736a60e9eeb907d3b93b6e0e5",
    "scrolled": false
   },
   "outputs": [
    {
     "data": {
      "text/html": [
       "<div>\n",
       "<style scoped>\n",
       "    .dataframe tbody tr th:only-of-type {\n",
       "        vertical-align: middle;\n",
       "    }\n",
       "\n",
       "    .dataframe tbody tr th {\n",
       "        vertical-align: top;\n",
       "    }\n",
       "\n",
       "    .dataframe thead th {\n",
       "        text-align: right;\n",
       "    }\n",
       "</style>\n",
       "<table border=\"1\" class=\"dataframe\">\n",
       "  <thead>\n",
       "    <tr style=\"text-align: right;\">\n",
       "      <th></th>\n",
       "      <th>Unnamed: 0</th>\n",
       "      <th>Date</th>\n",
       "      <th>AveragePrice</th>\n",
       "      <th>Total Volume</th>\n",
       "      <th>4046</th>\n",
       "      <th>4225</th>\n",
       "      <th>4770</th>\n",
       "      <th>Total Bags</th>\n",
       "      <th>Small Bags</th>\n",
       "      <th>Large Bags</th>\n",
       "      <th>XLarge Bags</th>\n",
       "      <th>type</th>\n",
       "      <th>year</th>\n",
       "      <th>region</th>\n",
       "    </tr>\n",
       "  </thead>\n",
       "  <tbody>\n",
       "    <tr>\n",
       "      <th>0</th>\n",
       "      <td>0</td>\n",
       "      <td>2015-12-27</td>\n",
       "      <td>1.33</td>\n",
       "      <td>64236.62</td>\n",
       "      <td>1036.74</td>\n",
       "      <td>54454.85</td>\n",
       "      <td>48.16</td>\n",
       "      <td>8696.87</td>\n",
       "      <td>8603.62</td>\n",
       "      <td>93.25</td>\n",
       "      <td>0.0</td>\n",
       "      <td>conventional</td>\n",
       "      <td>2015</td>\n",
       "      <td>Albany</td>\n",
       "    </tr>\n",
       "    <tr>\n",
       "      <th>1</th>\n",
       "      <td>1</td>\n",
       "      <td>2015-12-20</td>\n",
       "      <td>1.35</td>\n",
       "      <td>54876.98</td>\n",
       "      <td>674.28</td>\n",
       "      <td>44638.81</td>\n",
       "      <td>58.33</td>\n",
       "      <td>9505.56</td>\n",
       "      <td>9408.07</td>\n",
       "      <td>97.49</td>\n",
       "      <td>0.0</td>\n",
       "      <td>conventional</td>\n",
       "      <td>2015</td>\n",
       "      <td>Albany</td>\n",
       "    </tr>\n",
       "    <tr>\n",
       "      <th>2</th>\n",
       "      <td>2</td>\n",
       "      <td>2015-12-13</td>\n",
       "      <td>0.93</td>\n",
       "      <td>118220.22</td>\n",
       "      <td>794.70</td>\n",
       "      <td>109149.67</td>\n",
       "      <td>130.50</td>\n",
       "      <td>8145.35</td>\n",
       "      <td>8042.21</td>\n",
       "      <td>103.14</td>\n",
       "      <td>0.0</td>\n",
       "      <td>conventional</td>\n",
       "      <td>2015</td>\n",
       "      <td>Albany</td>\n",
       "    </tr>\n",
       "    <tr>\n",
       "      <th>3</th>\n",
       "      <td>3</td>\n",
       "      <td>2015-12-06</td>\n",
       "      <td>1.08</td>\n",
       "      <td>78992.15</td>\n",
       "      <td>1132.00</td>\n",
       "      <td>71976.41</td>\n",
       "      <td>72.58</td>\n",
       "      <td>5811.16</td>\n",
       "      <td>5677.40</td>\n",
       "      <td>133.76</td>\n",
       "      <td>0.0</td>\n",
       "      <td>conventional</td>\n",
       "      <td>2015</td>\n",
       "      <td>Albany</td>\n",
       "    </tr>\n",
       "    <tr>\n",
       "      <th>4</th>\n",
       "      <td>4</td>\n",
       "      <td>2015-11-29</td>\n",
       "      <td>1.28</td>\n",
       "      <td>51039.60</td>\n",
       "      <td>941.48</td>\n",
       "      <td>43838.39</td>\n",
       "      <td>75.78</td>\n",
       "      <td>6183.95</td>\n",
       "      <td>5986.26</td>\n",
       "      <td>197.69</td>\n",
       "      <td>0.0</td>\n",
       "      <td>conventional</td>\n",
       "      <td>2015</td>\n",
       "      <td>Albany</td>\n",
       "    </tr>\n",
       "  </tbody>\n",
       "</table>\n",
       "</div>"
      ],
      "text/plain": [
       "   Unnamed: 0        Date  AveragePrice  Total Volume     4046       4225  \\\n",
       "0           0  2015-12-27          1.33      64236.62  1036.74   54454.85   \n",
       "1           1  2015-12-20          1.35      54876.98   674.28   44638.81   \n",
       "2           2  2015-12-13          0.93     118220.22   794.70  109149.67   \n",
       "3           3  2015-12-06          1.08      78992.15  1132.00   71976.41   \n",
       "4           4  2015-11-29          1.28      51039.60   941.48   43838.39   \n",
       "\n",
       "     4770  Total Bags  Small Bags  Large Bags  XLarge Bags          type  \\\n",
       "0   48.16     8696.87     8603.62       93.25          0.0  conventional   \n",
       "1   58.33     9505.56     9408.07       97.49          0.0  conventional   \n",
       "2  130.50     8145.35     8042.21      103.14          0.0  conventional   \n",
       "3   72.58     5811.16     5677.40      133.76          0.0  conventional   \n",
       "4   75.78     6183.95     5986.26      197.69          0.0  conventional   \n",
       "\n",
       "   year  region  \n",
       "0  2015  Albany  \n",
       "1  2015  Albany  \n",
       "2  2015  Albany  \n",
       "3  2015  Albany  \n",
       "4  2015  Albany  "
      ]
     },
     "execution_count": 1,
     "metadata": {},
     "output_type": "execute_result"
    }
   ],
   "source": [
    "import numpy as np\n",
    "import pandas as pd\n",
    "import matplotlib.pyplot as plt\n",
    "from xgboost import XGBRegressor\n",
    "from xgboost import plot_importance\n",
    "from sklearn.model_selection import train_test_split\n",
    "from sklearn.metrics import mean_absolute_error\n",
    "from sklearn.model_selection import cross_val_score\n",
    "from sklearn.metrics import accuracy_score\n",
    "from sklearn.pipeline import Pipeline\n",
    "from sklearn.model_selection import GridSearchCV\n",
    "from sklearn.feature_selection import SelectFromModel\n",
    "from numpy import sort\n",
    "import seaborn as sns\n",
    "from sklearn.externals import joblib\n",
    "# from pdpbox import pdp\n",
    "\n",
    "plt.style.use('ggplot')\n",
    "\n",
    "data = pd.read_csv('avocado.csv')\n",
    "data.head()"
   ]
  },
  {
   "cell_type": "markdown",
   "metadata": {
    "_cell_guid": "79c7e3d0-c299-4dcb-8224-4455121ee9b0",
    "_uuid": "d629ff2d2480ee46fbb7e2d37f6b5fab8052498a"
   },
   "source": [
    "Feature engineering and data cleaning\n",
    "==============================\n",
    "This dataset is already fairly good, so we do not really have to do any cleaning. Often you will be working with a lot more messy datasets and multiple datasets that have to be merged. We will still have to do a litte feature engineering to get more out of our dataset.\n",
    "\n"
   ]
  },
  {
   "cell_type": "code",
   "execution_count": 2,
   "metadata": {
    "_uuid": "4a5a3a91f4a0e74080b6906413e4131213b89b8a"
   },
   "outputs": [],
   "source": [
    "data['Date'] = pd.to_datetime(data.Date)"
   ]
  },
  {
   "cell_type": "code",
   "execution_count": 3,
   "metadata": {
    "_uuid": "8207221cfde1485d4886ebaf5eb5f1ede4a4a12c"
   },
   "outputs": [],
   "source": [
    "data['day_of_week'] = data['Date'].dt.weekday_name"
   ]
  },
  {
   "cell_type": "code",
   "execution_count": 4,
   "metadata": {
    "_uuid": "491555997757efe23dfcdb3807b1eac0f169e795"
   },
   "outputs": [
    {
     "data": {
      "text/plain": [
       "array(['Sunday'], dtype=object)"
      ]
     },
     "execution_count": 4,
     "metadata": {},
     "output_type": "execute_result"
    }
   ],
   "source": [
    "data.day_of_week.unique()"
   ]
  },
  {
   "cell_type": "code",
   "execution_count": 5,
   "metadata": {
    "_uuid": "9cd0dc5ab686038c58b64cd9dfd667ef583d71a8"
   },
   "outputs": [],
   "source": [
    "data['month'] = data['Date'].dt.month"
   ]
  },
  {
   "cell_type": "code",
   "execution_count": 6,
   "metadata": {
    "_uuid": "a588fdaf8b48595d11e20d80344764347ae7e54c"
   },
   "outputs": [],
   "source": [
    "data['day'] = data['Date'].dt.day"
   ]
  },
  {
   "cell_type": "code",
   "execution_count": 7,
   "metadata": {
    "_uuid": "81e5ee51cef6dbb14e5c31d7ad7cd1ace968d3bd"
   },
   "outputs": [],
   "source": [
    "data = data.rename(columns={'Unnamed: 0': 'Store'})"
   ]
  },
  {
   "cell_type": "markdown",
   "metadata": {
    "_uuid": "c194f72cd29f01d1ea8b6efec0bfc705002de702"
   },
   "source": [
    "Understanding the dataset\n",
    "====================\n",
    "\n",
    "Unique values of categorical data. It can be useful to know how many unique values you have in your text data, for picking the way of making your categorical data into numrical data."
   ]
  },
  {
   "cell_type": "markdown",
   "metadata": {
    "_uuid": "cabd3506f95acbfc7763fcf0697c2297f435d581"
   },
   "source": [
    "<h2>About this Dataset</h2>\n",
    "<h4>Context</h4>\n",
    "\n",
    "It is a well known fact that Millenials LOVE Avocado Toast. It's also a well known fact that all Millenials live in their parents basements.\n",
    "\n",
    "Clearly, they aren't buying home because they are buying too much Avocado Toast!\n",
    "\n",
    "But maybe there's hope... if a Millenial could find a city with cheap avocados, they could live out the Millenial American Dream.\n",
    "\n",
    "Content\n",
    "\n",
    "This data was downloaded from the Hass Avocado Board website in May of 2018 & compiled into a single CSV. Here's how the Hass Avocado Board describes the data on their website:\n",
    "\n",
    "> The table below represents weekly 2018 retail scan data for National retail volume (units) and price. Retail scan data comes directly from retailers’ cash registers based on actual retail sales of Hass avocados. Starting in 2013, the table below reflects an expanded, multi-outlet retail data set. Multi-outlet reporting includes an aggregation of the following channels: grocery, mass, club, drug, dollar and military. The Average Price (of avocados) in the table reflects a per unit (per avocado) cost, even when multiple units (avocados) are sold in bags. The Product Lookup codes (PLU’s) in the table are only for Hass avocados. Other varieties of avocados (e.g. greenskins) are not included in this table.\n",
    "\n",
    "<h4>Some relevant columns in the dataset:</h4>\n",
    "\n",
    "Date - The date of the observation\n",
    "AveragePrice - the average price of a single avocado\n",
    "type - conventional or organic\n",
    "year - the year\n",
    "Region - the city or region of the observation\n",
    "\n",
    "Numerical column names refer to price lookup codes.\n",
    "\n",
    "4046:  small Hass\n",
    "\n",
    "4225:  large Hass\n",
    "\n",
    "4770:  extra large Hass"
   ]
  },
  {
   "cell_type": "markdown",
   "metadata": {
    "_uuid": "6a606e1a543a72ee944a041a34103e43b1b77d24"
   },
   "source": [
    "Therefore for easier reading of our dataset, we can rename the columns with lookup codes as names."
   ]
  },
  {
   "cell_type": "code",
   "execution_count": 8,
   "metadata": {
    "_uuid": "ea31bae12c53c26227f6b1d524c3042c3cbfac15"
   },
   "outputs": [],
   "source": [
    "data = data.rename(columns={'4046': 'small Hass', '4225':  'large Hass', '4770':  'extra large Hass'})"
   ]
  },
  {
   "cell_type": "code",
   "execution_count": 9,
   "metadata": {
    "_uuid": "1f39783c6f8bc070e8b7aa0f644487bcf9277d7b"
   },
   "outputs": [
    {
     "name": "stdout",
     "output_type": "stream",
     "text": [
      "Unique values in columns with text:\n",
      "\n",
      " Dates: ['2015-12-27T00:00:00.000000000' '2015-12-20T00:00:00.000000000'\n",
      " '2015-12-13T00:00:00.000000000' '2015-12-06T00:00:00.000000000'\n",
      " '2015-11-29T00:00:00.000000000' '2015-11-22T00:00:00.000000000'\n",
      " '2015-11-15T00:00:00.000000000' '2015-11-08T00:00:00.000000000'\n",
      " '2015-11-01T00:00:00.000000000' '2015-10-25T00:00:00.000000000'\n",
      " '2015-10-18T00:00:00.000000000' '2015-10-11T00:00:00.000000000'\n",
      " '2015-10-04T00:00:00.000000000' '2015-09-27T00:00:00.000000000'\n",
      " '2015-09-20T00:00:00.000000000' '2015-09-13T00:00:00.000000000'\n",
      " '2015-09-06T00:00:00.000000000' '2015-08-30T00:00:00.000000000'\n",
      " '2015-08-23T00:00:00.000000000' '2015-08-16T00:00:00.000000000'\n",
      " '2015-08-09T00:00:00.000000000' '2015-08-02T00:00:00.000000000'\n",
      " '2015-07-26T00:00:00.000000000' '2015-07-19T00:00:00.000000000'\n",
      " '2015-07-12T00:00:00.000000000' '2015-07-05T00:00:00.000000000'\n",
      " '2015-06-28T00:00:00.000000000' '2015-06-21T00:00:00.000000000'\n",
      " '2015-06-14T00:00:00.000000000' '2015-06-07T00:00:00.000000000'\n",
      " '2015-05-31T00:00:00.000000000' '2015-05-24T00:00:00.000000000'\n",
      " '2015-05-17T00:00:00.000000000' '2015-05-10T00:00:00.000000000'\n",
      " '2015-05-03T00:00:00.000000000' '2015-04-26T00:00:00.000000000'\n",
      " '2015-04-19T00:00:00.000000000' '2015-04-12T00:00:00.000000000'\n",
      " '2015-04-05T00:00:00.000000000' '2015-03-29T00:00:00.000000000'\n",
      " '2015-03-22T00:00:00.000000000' '2015-03-15T00:00:00.000000000'\n",
      " '2015-03-08T00:00:00.000000000' '2015-03-01T00:00:00.000000000'\n",
      " '2015-02-22T00:00:00.000000000' '2015-02-15T00:00:00.000000000'\n",
      " '2015-02-08T00:00:00.000000000' '2015-02-01T00:00:00.000000000'\n",
      " '2015-01-25T00:00:00.000000000' '2015-01-18T00:00:00.000000000'\n",
      " '2015-01-11T00:00:00.000000000' '2015-01-04T00:00:00.000000000'\n",
      " '2016-12-25T00:00:00.000000000' '2016-12-18T00:00:00.000000000'\n",
      " '2016-12-11T00:00:00.000000000' '2016-12-04T00:00:00.000000000'\n",
      " '2016-11-27T00:00:00.000000000' '2016-11-20T00:00:00.000000000'\n",
      " '2016-11-13T00:00:00.000000000' '2016-11-06T00:00:00.000000000'\n",
      " '2016-10-30T00:00:00.000000000' '2016-10-23T00:00:00.000000000'\n",
      " '2016-10-16T00:00:00.000000000' '2016-10-09T00:00:00.000000000'\n",
      " '2016-10-02T00:00:00.000000000' '2016-09-25T00:00:00.000000000'\n",
      " '2016-09-18T00:00:00.000000000' '2016-09-11T00:00:00.000000000'\n",
      " '2016-09-04T00:00:00.000000000' '2016-08-28T00:00:00.000000000'\n",
      " '2016-08-21T00:00:00.000000000' '2016-08-14T00:00:00.000000000'\n",
      " '2016-08-07T00:00:00.000000000' '2016-07-31T00:00:00.000000000'\n",
      " '2016-07-24T00:00:00.000000000' '2016-07-17T00:00:00.000000000'\n",
      " '2016-07-10T00:00:00.000000000' '2016-07-03T00:00:00.000000000'\n",
      " '2016-06-26T00:00:00.000000000' '2016-06-19T00:00:00.000000000'\n",
      " '2016-06-12T00:00:00.000000000' '2016-06-05T00:00:00.000000000'\n",
      " '2016-05-29T00:00:00.000000000' '2016-05-22T00:00:00.000000000'\n",
      " '2016-05-15T00:00:00.000000000' '2016-05-08T00:00:00.000000000'\n",
      " '2016-05-01T00:00:00.000000000' '2016-04-24T00:00:00.000000000'\n",
      " '2016-04-17T00:00:00.000000000' '2016-04-10T00:00:00.000000000'\n",
      " '2016-04-03T00:00:00.000000000' '2016-03-27T00:00:00.000000000'\n",
      " '2016-03-20T00:00:00.000000000' '2016-03-13T00:00:00.000000000'\n",
      " '2016-03-06T00:00:00.000000000' '2016-02-28T00:00:00.000000000'\n",
      " '2016-02-21T00:00:00.000000000' '2016-02-14T00:00:00.000000000'\n",
      " '2016-02-07T00:00:00.000000000' '2016-01-31T00:00:00.000000000'\n",
      " '2016-01-24T00:00:00.000000000' '2016-01-17T00:00:00.000000000'\n",
      " '2016-01-10T00:00:00.000000000' '2016-01-03T00:00:00.000000000'\n",
      " '2017-12-31T00:00:00.000000000' '2017-12-24T00:00:00.000000000'\n",
      " '2017-12-17T00:00:00.000000000' '2017-12-10T00:00:00.000000000'\n",
      " '2017-12-03T00:00:00.000000000' '2017-11-26T00:00:00.000000000'\n",
      " '2017-11-19T00:00:00.000000000' '2017-11-12T00:00:00.000000000'\n",
      " '2017-11-05T00:00:00.000000000' '2017-10-29T00:00:00.000000000'\n",
      " '2017-10-22T00:00:00.000000000' '2017-10-15T00:00:00.000000000'\n",
      " '2017-10-08T00:00:00.000000000' '2017-10-01T00:00:00.000000000'\n",
      " '2017-09-24T00:00:00.000000000' '2017-09-17T00:00:00.000000000'\n",
      " '2017-09-10T00:00:00.000000000' '2017-09-03T00:00:00.000000000'\n",
      " '2017-08-27T00:00:00.000000000' '2017-08-20T00:00:00.000000000'\n",
      " '2017-08-13T00:00:00.000000000' '2017-08-06T00:00:00.000000000'\n",
      " '2017-07-30T00:00:00.000000000' '2017-07-23T00:00:00.000000000'\n",
      " '2017-07-16T00:00:00.000000000' '2017-07-09T00:00:00.000000000'\n",
      " '2017-07-02T00:00:00.000000000' '2017-06-25T00:00:00.000000000'\n",
      " '2017-06-18T00:00:00.000000000' '2017-06-11T00:00:00.000000000'\n",
      " '2017-06-04T00:00:00.000000000' '2017-05-28T00:00:00.000000000'\n",
      " '2017-05-21T00:00:00.000000000' '2017-05-14T00:00:00.000000000'\n",
      " '2017-05-07T00:00:00.000000000' '2017-04-30T00:00:00.000000000'\n",
      " '2017-04-23T00:00:00.000000000' '2017-04-16T00:00:00.000000000'\n",
      " '2017-04-09T00:00:00.000000000' '2017-04-02T00:00:00.000000000'\n",
      " '2017-03-26T00:00:00.000000000' '2017-03-19T00:00:00.000000000'\n",
      " '2017-03-12T00:00:00.000000000' '2017-03-05T00:00:00.000000000'\n",
      " '2017-02-26T00:00:00.000000000' '2017-02-19T00:00:00.000000000'\n",
      " '2017-02-12T00:00:00.000000000' '2017-02-05T00:00:00.000000000'\n",
      " '2017-01-29T00:00:00.000000000' '2017-01-22T00:00:00.000000000'\n",
      " '2017-01-15T00:00:00.000000000' '2017-01-08T00:00:00.000000000'\n",
      " '2017-01-01T00:00:00.000000000' '2018-03-25T00:00:00.000000000'\n",
      " '2018-03-18T00:00:00.000000000' '2018-03-11T00:00:00.000000000'\n",
      " '2018-03-04T00:00:00.000000000' '2018-02-25T00:00:00.000000000'\n",
      " '2018-02-18T00:00:00.000000000' '2018-02-11T00:00:00.000000000'\n",
      " '2018-02-04T00:00:00.000000000' '2018-01-28T00:00:00.000000000'\n",
      " '2018-01-21T00:00:00.000000000' '2018-01-14T00:00:00.000000000'\n",
      " '2018-01-07T00:00:00.000000000'] \n",
      "\n",
      " Data type: ['conventional' 'organic'] \n",
      "\n",
      " Year: [2015 2016 2017 2018] \n",
      "\n",
      " Region: ['Albany' 'Atlanta' 'BaltimoreWashington' 'Boise' 'Boston'\n",
      " 'BuffaloRochester' 'California' 'Charlotte' 'Chicago' 'CincinnatiDayton'\n",
      " 'Columbus' 'DallasFtWorth' 'Denver' 'Detroit' 'GrandRapids' 'GreatLakes'\n",
      " 'HarrisburgScranton' 'HartfordSpringfield' 'Houston' 'Indianapolis'\n",
      " 'Jacksonville' 'LasVegas' 'LosAngeles' 'Louisville' 'MiamiFtLauderdale'\n",
      " 'Midsouth' 'Nashville' 'NewOrleansMobile' 'NewYork' 'Northeast'\n",
      " 'NorthernNewEngland' 'Orlando' 'Philadelphia' 'PhoenixTucson'\n",
      " 'Pittsburgh' 'Plains' 'Portland' 'RaleighGreensboro' 'RichmondNorfolk'\n",
      " 'Roanoke' 'Sacramento' 'SanDiego' 'SanFrancisco' 'Seattle'\n",
      " 'SouthCarolina' 'SouthCentral' 'Southeast' 'Spokane' 'StLouis' 'Syracuse'\n",
      " 'Tampa' 'TotalUS' 'West' 'WestTexNewMexico'] \n",
      "\n",
      " Day of week: ['Sunday'] \n",
      "\n",
      " Month: [12 11 10  9  8  7  6  5  4  3  2  1]\n"
     ]
    }
   ],
   "source": [
    "print('Unique values in columns with text:\\n\\n Dates: {0} \\n\\n Data type: {1} \\n\\n Year: {2} \\n\\n Region: {3} \\n\\n Day of week: {4} \\n\\n Month: {5}'.format(data.Date.unique(), data.type.unique(), data.year.unique(), data.region.unique(), data['day_of_week'].unique(), data.month.unique()))"
   ]
  },
  {
   "cell_type": "code",
   "execution_count": 10,
   "metadata": {
    "_uuid": "9f0fc17af62dd9db57377bd7856615af8bfa70c9"
   },
   "outputs": [
    {
     "name": "stdout",
     "output_type": "stream",
     "text": [
      "<class 'pandas.core.frame.DataFrame'>\n",
      "RangeIndex: 18249 entries, 0 to 18248\n",
      "Data columns (total 17 columns):\n",
      "Store               18249 non-null int64\n",
      "Date                18249 non-null datetime64[ns]\n",
      "AveragePrice        18249 non-null float64\n",
      "Total Volume        18249 non-null float64\n",
      "small Hass          18249 non-null float64\n",
      "large Hass          18249 non-null float64\n",
      "extra large Hass    18249 non-null float64\n",
      "Total Bags          18249 non-null float64\n",
      "Small Bags          18249 non-null float64\n",
      "Large Bags          18249 non-null float64\n",
      "XLarge Bags         18249 non-null float64\n",
      "type                18249 non-null object\n",
      "year                18249 non-null int64\n",
      "region              18249 non-null object\n",
      "day_of_week         18249 non-null object\n",
      "month               18249 non-null int64\n",
      "day                 18249 non-null int64\n",
      "dtypes: datetime64[ns](1), float64(9), int64(4), object(3)\n",
      "memory usage: 2.4+ MB\n"
     ]
    }
   ],
   "source": [
    "data.info()"
   ]
  },
  {
   "cell_type": "markdown",
   "metadata": {
    "_uuid": "37a02cfd29f304791da8de522e3880d54a4a4cc4"
   },
   "source": [
    "Handeling categorical data\n",
    "=====================\n",
    "\n",
    "I am choosing to handle categorical data, by replacing "
   ]
  },
  {
   "cell_type": "code",
   "execution_count": 11,
   "metadata": {
    "_uuid": "59e34cb6f65837d14a765c24bcd28b878acfa37f"
   },
   "outputs": [],
   "source": [
    "mappings_type = {'conventional':0, 'organic':1}\n",
    "\n",
    "mappings_dayofweek = {'Sunday':1}\n",
    "\n",
    "mappings_region = {}\n",
    "\n",
    "v = 0\n",
    "\n",
    "regions = list(data.region.unique())\n",
    "\n",
    "numbers = []\n",
    "\n",
    "for i in regions:\n",
    "    v = v+1\n",
    "    numbers.append(v)\n",
    "\n",
    "d = zip(regions, numbers)\n",
    "\n",
    "mappings_region = dict(d)\n",
    "\n",
    "data.type.replace(mappings_type, inplace=True)\n",
    "data.day_of_week.replace(mappings_dayofweek, inplace=True)\n",
    "data.region.replace(mappings_region, inplace=True)"
   ]
  },
  {
   "cell_type": "code",
   "execution_count": 12,
   "metadata": {
    "_uuid": "76c84f844c3805aeb0dde205439c5bfd624f396a"
   },
   "outputs": [
    {
     "data": {
      "text/html": [
       "<div>\n",
       "<style scoped>\n",
       "    .dataframe tbody tr th:only-of-type {\n",
       "        vertical-align: middle;\n",
       "    }\n",
       "\n",
       "    .dataframe tbody tr th {\n",
       "        vertical-align: top;\n",
       "    }\n",
       "\n",
       "    .dataframe thead th {\n",
       "        text-align: right;\n",
       "    }\n",
       "</style>\n",
       "<table border=\"1\" class=\"dataframe\">\n",
       "  <thead>\n",
       "    <tr style=\"text-align: right;\">\n",
       "      <th></th>\n",
       "      <th>Store</th>\n",
       "      <th>Date</th>\n",
       "      <th>AveragePrice</th>\n",
       "      <th>Total Volume</th>\n",
       "      <th>small Hass</th>\n",
       "      <th>large Hass</th>\n",
       "      <th>extra large Hass</th>\n",
       "      <th>Total Bags</th>\n",
       "      <th>Small Bags</th>\n",
       "      <th>Large Bags</th>\n",
       "      <th>XLarge Bags</th>\n",
       "      <th>type</th>\n",
       "      <th>year</th>\n",
       "      <th>region</th>\n",
       "      <th>day_of_week</th>\n",
       "      <th>month</th>\n",
       "      <th>day</th>\n",
       "    </tr>\n",
       "  </thead>\n",
       "  <tbody>\n",
       "    <tr>\n",
       "      <th>0</th>\n",
       "      <td>0</td>\n",
       "      <td>2015-12-27</td>\n",
       "      <td>1.33</td>\n",
       "      <td>64236.62</td>\n",
       "      <td>1036.74</td>\n",
       "      <td>54454.85</td>\n",
       "      <td>48.16</td>\n",
       "      <td>8696.87</td>\n",
       "      <td>8603.62</td>\n",
       "      <td>93.25</td>\n",
       "      <td>0.0</td>\n",
       "      <td>0</td>\n",
       "      <td>2015</td>\n",
       "      <td>1</td>\n",
       "      <td>1</td>\n",
       "      <td>12</td>\n",
       "      <td>27</td>\n",
       "    </tr>\n",
       "    <tr>\n",
       "      <th>1</th>\n",
       "      <td>1</td>\n",
       "      <td>2015-12-20</td>\n",
       "      <td>1.35</td>\n",
       "      <td>54876.98</td>\n",
       "      <td>674.28</td>\n",
       "      <td>44638.81</td>\n",
       "      <td>58.33</td>\n",
       "      <td>9505.56</td>\n",
       "      <td>9408.07</td>\n",
       "      <td>97.49</td>\n",
       "      <td>0.0</td>\n",
       "      <td>0</td>\n",
       "      <td>2015</td>\n",
       "      <td>1</td>\n",
       "      <td>1</td>\n",
       "      <td>12</td>\n",
       "      <td>20</td>\n",
       "    </tr>\n",
       "    <tr>\n",
       "      <th>2</th>\n",
       "      <td>2</td>\n",
       "      <td>2015-12-13</td>\n",
       "      <td>0.93</td>\n",
       "      <td>118220.22</td>\n",
       "      <td>794.70</td>\n",
       "      <td>109149.67</td>\n",
       "      <td>130.50</td>\n",
       "      <td>8145.35</td>\n",
       "      <td>8042.21</td>\n",
       "      <td>103.14</td>\n",
       "      <td>0.0</td>\n",
       "      <td>0</td>\n",
       "      <td>2015</td>\n",
       "      <td>1</td>\n",
       "      <td>1</td>\n",
       "      <td>12</td>\n",
       "      <td>13</td>\n",
       "    </tr>\n",
       "    <tr>\n",
       "      <th>3</th>\n",
       "      <td>3</td>\n",
       "      <td>2015-12-06</td>\n",
       "      <td>1.08</td>\n",
       "      <td>78992.15</td>\n",
       "      <td>1132.00</td>\n",
       "      <td>71976.41</td>\n",
       "      <td>72.58</td>\n",
       "      <td>5811.16</td>\n",
       "      <td>5677.40</td>\n",
       "      <td>133.76</td>\n",
       "      <td>0.0</td>\n",
       "      <td>0</td>\n",
       "      <td>2015</td>\n",
       "      <td>1</td>\n",
       "      <td>1</td>\n",
       "      <td>12</td>\n",
       "      <td>6</td>\n",
       "    </tr>\n",
       "    <tr>\n",
       "      <th>4</th>\n",
       "      <td>4</td>\n",
       "      <td>2015-11-29</td>\n",
       "      <td>1.28</td>\n",
       "      <td>51039.60</td>\n",
       "      <td>941.48</td>\n",
       "      <td>43838.39</td>\n",
       "      <td>75.78</td>\n",
       "      <td>6183.95</td>\n",
       "      <td>5986.26</td>\n",
       "      <td>197.69</td>\n",
       "      <td>0.0</td>\n",
       "      <td>0</td>\n",
       "      <td>2015</td>\n",
       "      <td>1</td>\n",
       "      <td>1</td>\n",
       "      <td>11</td>\n",
       "      <td>29</td>\n",
       "    </tr>\n",
       "  </tbody>\n",
       "</table>\n",
       "</div>"
      ],
      "text/plain": [
       "   Store       Date  AveragePrice  Total Volume  small Hass  large Hass  \\\n",
       "0      0 2015-12-27          1.33      64236.62     1036.74    54454.85   \n",
       "1      1 2015-12-20          1.35      54876.98      674.28    44638.81   \n",
       "2      2 2015-12-13          0.93     118220.22      794.70   109149.67   \n",
       "3      3 2015-12-06          1.08      78992.15     1132.00    71976.41   \n",
       "4      4 2015-11-29          1.28      51039.60      941.48    43838.39   \n",
       "\n",
       "   extra large Hass  Total Bags  Small Bags  Large Bags  XLarge Bags  type  \\\n",
       "0             48.16     8696.87     8603.62       93.25          0.0     0   \n",
       "1             58.33     9505.56     9408.07       97.49          0.0     0   \n",
       "2            130.50     8145.35     8042.21      103.14          0.0     0   \n",
       "3             72.58     5811.16     5677.40      133.76          0.0     0   \n",
       "4             75.78     6183.95     5986.26      197.69          0.0     0   \n",
       "\n",
       "   year  region  day_of_week  month  day  \n",
       "0  2015       1            1     12   27  \n",
       "1  2015       1            1     12   20  \n",
       "2  2015       1            1     12   13  \n",
       "3  2015       1            1     12    6  \n",
       "4  2015       1            1     11   29  "
      ]
     },
     "execution_count": 12,
     "metadata": {},
     "output_type": "execute_result"
    }
   ],
   "source": [
    "data.head()"
   ]
  },
  {
   "cell_type": "markdown",
   "metadata": {
    "_uuid": "6959b28bcc75498c02284462f3763b7f4613be76"
   },
   "source": [
    "<h2>Descriptive statistics</h2>\n",
    "Describtive statistics is crusial to understand your dataset properly. Descriptive statistics is the first step to perform good prescriptive and predictive statistics."
   ]
  },
  {
   "cell_type": "code",
   "execution_count": 13,
   "metadata": {
    "_uuid": "077340ef432bf5abbc021d7a51c3487ace9ed7cc"
   },
   "outputs": [
    {
     "data": {
      "text/html": [
       "<div>\n",
       "<style scoped>\n",
       "    .dataframe tbody tr th:only-of-type {\n",
       "        vertical-align: middle;\n",
       "    }\n",
       "\n",
       "    .dataframe tbody tr th {\n",
       "        vertical-align: top;\n",
       "    }\n",
       "\n",
       "    .dataframe thead th {\n",
       "        text-align: right;\n",
       "    }\n",
       "</style>\n",
       "<table border=\"1\" class=\"dataframe\">\n",
       "  <thead>\n",
       "    <tr style=\"text-align: right;\">\n",
       "      <th></th>\n",
       "      <th>Store</th>\n",
       "      <th>AveragePrice</th>\n",
       "      <th>Total Volume</th>\n",
       "      <th>small Hass</th>\n",
       "      <th>large Hass</th>\n",
       "      <th>extra large Hass</th>\n",
       "      <th>Total Bags</th>\n",
       "      <th>Small Bags</th>\n",
       "      <th>Large Bags</th>\n",
       "      <th>XLarge Bags</th>\n",
       "      <th>type</th>\n",
       "      <th>year</th>\n",
       "      <th>region</th>\n",
       "      <th>day_of_week</th>\n",
       "      <th>month</th>\n",
       "      <th>day</th>\n",
       "    </tr>\n",
       "  </thead>\n",
       "  <tbody>\n",
       "    <tr>\n",
       "      <th>count</th>\n",
       "      <td>18249.000000</td>\n",
       "      <td>18249.000000</td>\n",
       "      <td>1.824900e+04</td>\n",
       "      <td>1.824900e+04</td>\n",
       "      <td>1.824900e+04</td>\n",
       "      <td>1.824900e+04</td>\n",
       "      <td>1.824900e+04</td>\n",
       "      <td>1.824900e+04</td>\n",
       "      <td>1.824900e+04</td>\n",
       "      <td>18249.000000</td>\n",
       "      <td>18249.000000</td>\n",
       "      <td>18249.000000</td>\n",
       "      <td>18249.000000</td>\n",
       "      <td>18249.0</td>\n",
       "      <td>18249.000000</td>\n",
       "      <td>18249.000000</td>\n",
       "    </tr>\n",
       "    <tr>\n",
       "      <th>mean</th>\n",
       "      <td>24.232232</td>\n",
       "      <td>1.405978</td>\n",
       "      <td>8.506440e+05</td>\n",
       "      <td>2.930084e+05</td>\n",
       "      <td>2.951546e+05</td>\n",
       "      <td>2.283974e+04</td>\n",
       "      <td>2.396392e+05</td>\n",
       "      <td>1.821947e+05</td>\n",
       "      <td>5.433809e+04</td>\n",
       "      <td>3106.426507</td>\n",
       "      <td>0.499918</td>\n",
       "      <td>2016.147899</td>\n",
       "      <td>27.495644</td>\n",
       "      <td>1.0</td>\n",
       "      <td>6.177215</td>\n",
       "      <td>15.662612</td>\n",
       "    </tr>\n",
       "    <tr>\n",
       "      <th>std</th>\n",
       "      <td>15.481045</td>\n",
       "      <td>0.402677</td>\n",
       "      <td>3.453545e+06</td>\n",
       "      <td>1.264989e+06</td>\n",
       "      <td>1.204120e+06</td>\n",
       "      <td>1.074641e+05</td>\n",
       "      <td>9.862424e+05</td>\n",
       "      <td>7.461785e+05</td>\n",
       "      <td>2.439660e+05</td>\n",
       "      <td>17692.894652</td>\n",
       "      <td>0.500014</td>\n",
       "      <td>0.939938</td>\n",
       "      <td>15.583788</td>\n",
       "      <td>0.0</td>\n",
       "      <td>3.534130</td>\n",
       "      <td>8.776281</td>\n",
       "    </tr>\n",
       "    <tr>\n",
       "      <th>min</th>\n",
       "      <td>0.000000</td>\n",
       "      <td>0.440000</td>\n",
       "      <td>8.456000e+01</td>\n",
       "      <td>0.000000e+00</td>\n",
       "      <td>0.000000e+00</td>\n",
       "      <td>0.000000e+00</td>\n",
       "      <td>0.000000e+00</td>\n",
       "      <td>0.000000e+00</td>\n",
       "      <td>0.000000e+00</td>\n",
       "      <td>0.000000</td>\n",
       "      <td>0.000000</td>\n",
       "      <td>2015.000000</td>\n",
       "      <td>1.000000</td>\n",
       "      <td>1.0</td>\n",
       "      <td>1.000000</td>\n",
       "      <td>1.000000</td>\n",
       "    </tr>\n",
       "    <tr>\n",
       "      <th>25%</th>\n",
       "      <td>10.000000</td>\n",
       "      <td>1.100000</td>\n",
       "      <td>1.083858e+04</td>\n",
       "      <td>8.540700e+02</td>\n",
       "      <td>3.008780e+03</td>\n",
       "      <td>0.000000e+00</td>\n",
       "      <td>5.088640e+03</td>\n",
       "      <td>2.849420e+03</td>\n",
       "      <td>1.274700e+02</td>\n",
       "      <td>0.000000</td>\n",
       "      <td>0.000000</td>\n",
       "      <td>2015.000000</td>\n",
       "      <td>14.000000</td>\n",
       "      <td>1.0</td>\n",
       "      <td>3.000000</td>\n",
       "      <td>8.000000</td>\n",
       "    </tr>\n",
       "    <tr>\n",
       "      <th>50%</th>\n",
       "      <td>24.000000</td>\n",
       "      <td>1.370000</td>\n",
       "      <td>1.073768e+05</td>\n",
       "      <td>8.645300e+03</td>\n",
       "      <td>2.906102e+04</td>\n",
       "      <td>1.849900e+02</td>\n",
       "      <td>3.974383e+04</td>\n",
       "      <td>2.636282e+04</td>\n",
       "      <td>2.647710e+03</td>\n",
       "      <td>0.000000</td>\n",
       "      <td>0.000000</td>\n",
       "      <td>2016.000000</td>\n",
       "      <td>27.000000</td>\n",
       "      <td>1.0</td>\n",
       "      <td>6.000000</td>\n",
       "      <td>16.000000</td>\n",
       "    </tr>\n",
       "    <tr>\n",
       "      <th>75%</th>\n",
       "      <td>38.000000</td>\n",
       "      <td>1.660000</td>\n",
       "      <td>4.329623e+05</td>\n",
       "      <td>1.110202e+05</td>\n",
       "      <td>1.502069e+05</td>\n",
       "      <td>6.243420e+03</td>\n",
       "      <td>1.107834e+05</td>\n",
       "      <td>8.333767e+04</td>\n",
       "      <td>2.202925e+04</td>\n",
       "      <td>132.500000</td>\n",
       "      <td>1.000000</td>\n",
       "      <td>2017.000000</td>\n",
       "      <td>41.000000</td>\n",
       "      <td>1.0</td>\n",
       "      <td>9.000000</td>\n",
       "      <td>23.000000</td>\n",
       "    </tr>\n",
       "    <tr>\n",
       "      <th>max</th>\n",
       "      <td>52.000000</td>\n",
       "      <td>3.250000</td>\n",
       "      <td>6.250565e+07</td>\n",
       "      <td>2.274362e+07</td>\n",
       "      <td>2.047057e+07</td>\n",
       "      <td>2.546439e+06</td>\n",
       "      <td>1.937313e+07</td>\n",
       "      <td>1.338459e+07</td>\n",
       "      <td>5.719097e+06</td>\n",
       "      <td>551693.650000</td>\n",
       "      <td>1.000000</td>\n",
       "      <td>2018.000000</td>\n",
       "      <td>54.000000</td>\n",
       "      <td>1.0</td>\n",
       "      <td>12.000000</td>\n",
       "      <td>31.000000</td>\n",
       "    </tr>\n",
       "  </tbody>\n",
       "</table>\n",
       "</div>"
      ],
      "text/plain": [
       "              Store  AveragePrice  Total Volume    small Hass    large Hass  \\\n",
       "count  18249.000000  18249.000000  1.824900e+04  1.824900e+04  1.824900e+04   \n",
       "mean      24.232232      1.405978  8.506440e+05  2.930084e+05  2.951546e+05   \n",
       "std       15.481045      0.402677  3.453545e+06  1.264989e+06  1.204120e+06   \n",
       "min        0.000000      0.440000  8.456000e+01  0.000000e+00  0.000000e+00   \n",
       "25%       10.000000      1.100000  1.083858e+04  8.540700e+02  3.008780e+03   \n",
       "50%       24.000000      1.370000  1.073768e+05  8.645300e+03  2.906102e+04   \n",
       "75%       38.000000      1.660000  4.329623e+05  1.110202e+05  1.502069e+05   \n",
       "max       52.000000      3.250000  6.250565e+07  2.274362e+07  2.047057e+07   \n",
       "\n",
       "       extra large Hass    Total Bags    Small Bags    Large Bags  \\\n",
       "count      1.824900e+04  1.824900e+04  1.824900e+04  1.824900e+04   \n",
       "mean       2.283974e+04  2.396392e+05  1.821947e+05  5.433809e+04   \n",
       "std        1.074641e+05  9.862424e+05  7.461785e+05  2.439660e+05   \n",
       "min        0.000000e+00  0.000000e+00  0.000000e+00  0.000000e+00   \n",
       "25%        0.000000e+00  5.088640e+03  2.849420e+03  1.274700e+02   \n",
       "50%        1.849900e+02  3.974383e+04  2.636282e+04  2.647710e+03   \n",
       "75%        6.243420e+03  1.107834e+05  8.333767e+04  2.202925e+04   \n",
       "max        2.546439e+06  1.937313e+07  1.338459e+07  5.719097e+06   \n",
       "\n",
       "         XLarge Bags          type          year        region  day_of_week  \\\n",
       "count   18249.000000  18249.000000  18249.000000  18249.000000      18249.0   \n",
       "mean     3106.426507      0.499918   2016.147899     27.495644          1.0   \n",
       "std     17692.894652      0.500014      0.939938     15.583788          0.0   \n",
       "min         0.000000      0.000000   2015.000000      1.000000          1.0   \n",
       "25%         0.000000      0.000000   2015.000000     14.000000          1.0   \n",
       "50%         0.000000      0.000000   2016.000000     27.000000          1.0   \n",
       "75%       132.500000      1.000000   2017.000000     41.000000          1.0   \n",
       "max    551693.650000      1.000000   2018.000000     54.000000          1.0   \n",
       "\n",
       "              month           day  \n",
       "count  18249.000000  18249.000000  \n",
       "mean       6.177215     15.662612  \n",
       "std        3.534130      8.776281  \n",
       "min        1.000000      1.000000  \n",
       "25%        3.000000      8.000000  \n",
       "50%        6.000000     16.000000  \n",
       "75%        9.000000     23.000000  \n",
       "max       12.000000     31.000000  "
      ]
     },
     "execution_count": 13,
     "metadata": {},
     "output_type": "execute_result"
    }
   ],
   "source": [
    "data.describe()"
   ]
  },
  {
   "cell_type": "code",
   "execution_count": 14,
   "metadata": {
    "_uuid": "ad9c450a72b5319e77dc134d2c5e56a348531810"
   },
   "outputs": [
    {
     "data": {
      "text/html": [
       "<div>\n",
       "<style scoped>\n",
       "    .dataframe tbody tr th:only-of-type {\n",
       "        vertical-align: middle;\n",
       "    }\n",
       "\n",
       "    .dataframe tbody tr th {\n",
       "        vertical-align: top;\n",
       "    }\n",
       "\n",
       "    .dataframe thead th {\n",
       "        text-align: right;\n",
       "    }\n",
       "</style>\n",
       "<table border=\"1\" class=\"dataframe\">\n",
       "  <thead>\n",
       "    <tr style=\"text-align: right;\">\n",
       "      <th></th>\n",
       "      <th>Skewness</th>\n",
       "    </tr>\n",
       "  </thead>\n",
       "  <tbody>\n",
       "    <tr>\n",
       "      <th>Store</th>\n",
       "      <td>0.108334</td>\n",
       "    </tr>\n",
       "    <tr>\n",
       "      <th>AveragePrice</th>\n",
       "      <td>0.580303</td>\n",
       "    </tr>\n",
       "    <tr>\n",
       "      <th>Total Volume</th>\n",
       "      <td>9.007687</td>\n",
       "    </tr>\n",
       "    <tr>\n",
       "      <th>small Hass</th>\n",
       "      <td>8.648220</td>\n",
       "    </tr>\n",
       "    <tr>\n",
       "      <th>large Hass</th>\n",
       "      <td>8.942466</td>\n",
       "    </tr>\n",
       "    <tr>\n",
       "      <th>extra large Hass</th>\n",
       "      <td>10.159396</td>\n",
       "    </tr>\n",
       "    <tr>\n",
       "      <th>Total Bags</th>\n",
       "      <td>9.756072</td>\n",
       "    </tr>\n",
       "    <tr>\n",
       "      <th>Small Bags</th>\n",
       "      <td>9.540660</td>\n",
       "    </tr>\n",
       "    <tr>\n",
       "      <th>Large Bags</th>\n",
       "      <td>9.796455</td>\n",
       "    </tr>\n",
       "    <tr>\n",
       "      <th>XLarge Bags</th>\n",
       "      <td>13.139751</td>\n",
       "    </tr>\n",
       "    <tr>\n",
       "      <th>type</th>\n",
       "      <td>0.000329</td>\n",
       "    </tr>\n",
       "    <tr>\n",
       "      <th>year</th>\n",
       "      <td>0.215339</td>\n",
       "    </tr>\n",
       "    <tr>\n",
       "      <th>region</th>\n",
       "      <td>0.000030</td>\n",
       "    </tr>\n",
       "    <tr>\n",
       "      <th>day_of_week</th>\n",
       "      <td>0.000000</td>\n",
       "    </tr>\n",
       "    <tr>\n",
       "      <th>month</th>\n",
       "      <td>0.106617</td>\n",
       "    </tr>\n",
       "    <tr>\n",
       "      <th>day</th>\n",
       "      <td>0.014310</td>\n",
       "    </tr>\n",
       "  </tbody>\n",
       "</table>\n",
       "</div>"
      ],
      "text/plain": [
       "                   Skewness\n",
       "Store              0.108334\n",
       "AveragePrice       0.580303\n",
       "Total Volume       9.007687\n",
       "small Hass         8.648220\n",
       "large Hass         8.942466\n",
       "extra large Hass  10.159396\n",
       "Total Bags         9.756072\n",
       "Small Bags         9.540660\n",
       "Large Bags         9.796455\n",
       "XLarge Bags       13.139751\n",
       "type               0.000329\n",
       "year               0.215339\n",
       "region             0.000030\n",
       "day_of_week        0.000000\n",
       "month              0.106617\n",
       "day                0.014310"
      ]
     },
     "execution_count": 14,
     "metadata": {},
     "output_type": "execute_result"
    }
   ],
   "source": [
    "skew_df = pd.DataFrame(data.skew(), columns={'Skewness'})\n",
    "skew_df"
   ]
  },
  {
   "cell_type": "code",
   "execution_count": 15,
   "metadata": {
    "_uuid": "3bfe362bc76bdd6fd9d2098bf945cb8ba1c834d9"
   },
   "outputs": [
    {
     "data": {
      "text/html": [
       "<div>\n",
       "<style scoped>\n",
       "    .dataframe tbody tr th:only-of-type {\n",
       "        vertical-align: middle;\n",
       "    }\n",
       "\n",
       "    .dataframe tbody tr th {\n",
       "        vertical-align: top;\n",
       "    }\n",
       "\n",
       "    .dataframe thead th {\n",
       "        text-align: right;\n",
       "    }\n",
       "</style>\n",
       "<table border=\"1\" class=\"dataframe\">\n",
       "  <thead>\n",
       "    <tr style=\"text-align: right;\">\n",
       "      <th></th>\n",
       "      <th>Kurtosis</th>\n",
       "    </tr>\n",
       "  </thead>\n",
       "  <tbody>\n",
       "    <tr>\n",
       "      <th>Store</th>\n",
       "      <td>-1.254364</td>\n",
       "    </tr>\n",
       "    <tr>\n",
       "      <th>AveragePrice</th>\n",
       "      <td>0.325196</td>\n",
       "    </tr>\n",
       "    <tr>\n",
       "      <th>Total Volume</th>\n",
       "      <td>92.104458</td>\n",
       "    </tr>\n",
       "    <tr>\n",
       "      <th>small Hass</th>\n",
       "      <td>86.809113</td>\n",
       "    </tr>\n",
       "    <tr>\n",
       "      <th>large Hass</th>\n",
       "      <td>91.949022</td>\n",
       "    </tr>\n",
       "    <tr>\n",
       "      <th>extra large Hass</th>\n",
       "      <td>132.563441</td>\n",
       "    </tr>\n",
       "    <tr>\n",
       "      <th>Total Bags</th>\n",
       "      <td>112.272156</td>\n",
       "    </tr>\n",
       "    <tr>\n",
       "      <th>Small Bags</th>\n",
       "      <td>107.012885</td>\n",
       "    </tr>\n",
       "    <tr>\n",
       "      <th>Large Bags</th>\n",
       "      <td>117.999481</td>\n",
       "    </tr>\n",
       "    <tr>\n",
       "      <th>XLarge Bags</th>\n",
       "      <td>233.602612</td>\n",
       "    </tr>\n",
       "    <tr>\n",
       "      <th>type</th>\n",
       "      <td>-2.000219</td>\n",
       "    </tr>\n",
       "    <tr>\n",
       "      <th>year</th>\n",
       "      <td>-1.032747</td>\n",
       "    </tr>\n",
       "    <tr>\n",
       "      <th>region</th>\n",
       "      <td>-1.200783</td>\n",
       "    </tr>\n",
       "    <tr>\n",
       "      <th>day_of_week</th>\n",
       "      <td>0.000000</td>\n",
       "    </tr>\n",
       "    <tr>\n",
       "      <th>month</th>\n",
       "      <td>-1.265284</td>\n",
       "    </tr>\n",
       "    <tr>\n",
       "      <th>day</th>\n",
       "      <td>-1.189364</td>\n",
       "    </tr>\n",
       "  </tbody>\n",
       "</table>\n",
       "</div>"
      ],
      "text/plain": [
       "                    Kurtosis\n",
       "Store              -1.254364\n",
       "AveragePrice        0.325196\n",
       "Total Volume       92.104458\n",
       "small Hass         86.809113\n",
       "large Hass         91.949022\n",
       "extra large Hass  132.563441\n",
       "Total Bags        112.272156\n",
       "Small Bags        107.012885\n",
       "Large Bags        117.999481\n",
       "XLarge Bags       233.602612\n",
       "type               -2.000219\n",
       "year               -1.032747\n",
       "region             -1.200783\n",
       "day_of_week         0.000000\n",
       "month              -1.265284\n",
       "day                -1.189364"
      ]
     },
     "execution_count": 15,
     "metadata": {},
     "output_type": "execute_result"
    }
   ],
   "source": [
    "kurt_df = pd.DataFrame(data.kurtosis(), columns={'Kurtosis'})\n",
    "kurt_df"
   ]
  },
  {
   "cell_type": "markdown",
   "metadata": {
    "_uuid": "10349db587fa72a8f39ad69eb6fb40132b30019c"
   },
   "source": [
    "<h2>Summarize / What do we know now?</h2>"
   ]
  },
  {
   "cell_type": "markdown",
   "metadata": {
    "_uuid": "e1bd2f343d22ce620206c8aaa80743927110a5c6"
   },
   "source": []
  },
  {
   "cell_type": "markdown",
   "metadata": {
    "_uuid": "0dbf608beffc509cbe59b62c3d88140ebbccf2e9"
   },
   "source": [
    "Building our model\n",
    "===============\n",
    "___________\n",
    "Now it is finnaly time for some fun! We will be building a XGBoost model and plotting feature importance of it, to learn some more about our data."
   ]
  },
  {
   "cell_type": "code",
   "execution_count": 16,
   "metadata": {
    "_uuid": "f071a45de414e4bd5619680cfd62c417ebb7470b",
    "scrolled": true
   },
   "outputs": [
    {
     "data": {
      "text/plain": [
       "XGBRegressor(base_score=0.5, booster='gbtree', colsample_bylevel=1,\n",
       "       colsample_bytree=1, gamma=0, learning_rate=0.1, max_delta_step=0,\n",
       "       max_depth=3, min_child_weight=1, missing=None, n_estimators=100,\n",
       "       n_jobs=4, nthread=None, objective='reg:linear', random_state=0,\n",
       "       reg_alpha=0, reg_lambda=1, scale_pos_weight=1, seed=None,\n",
       "       silent=True, subsample=1)"
      ]
     },
     "execution_count": 16,
     "metadata": {},
     "output_type": "execute_result"
    }
   ],
   "source": [
    "X = data.drop(['AveragePrice', 'Date'], axis=1)\n",
    "\n",
    "y = data['AveragePrice']\n",
    "\n",
    "X_train, X_test, y_train, y_test = train_test_split(X, y, test_size=0.33, random_state=42)\n",
    "\n",
    "model = XGBRegressor(n_jobs=4)\n",
    "model.fit(X_train, \n",
    "            y_train,\n",
    "            verbose=True)"
   ]
  },
  {
   "cell_type": "code",
   "execution_count": 17,
   "metadata": {
    "_uuid": "abb21a2bcd368165565faefe6ed4784415f54eeb"
   },
   "outputs": [
    {
     "name": "stdout",
     "output_type": "stream",
     "text": [
      "[-0.14888892 -0.15173764 -0.17531245 -0.23578806 -0.27182656]\n",
      "Mean Absolute Error: 0.196711\n"
     ]
    }
   ],
   "source": [
    "predictions = model.predict(X_test)\n",
    "scores = cross_val_score(model, X, y, scoring='neg_mean_absolute_error', cv=5)\n",
    "print(scores)\n",
    "print('Mean Absolute Error: %2f' %(-1 * scores.mean()))"
   ]
  },
  {
   "cell_type": "code",
   "execution_count": 18,
   "metadata": {
    "_uuid": "43c3c6acc548dd58901bfc5ec8eea95ad904c21a"
   },
   "outputs": [
    {
     "name": "stdout",
     "output_type": "stream",
     "text": [
      "Mean Absolute Error : 0.1520224781418765\n",
      "10.81257557618608 %\n"
     ]
    }
   ],
   "source": [
    "mae = mean_absolute_error(predictions, y_test)\n",
    "print(\"Mean Absolute Error : \" + str(mae))\n",
    "\n",
    "error_percent = mae/data['AveragePrice'].mean()*100\n",
    "print(str(error_percent) + ' %')"
   ]
  },
  {
   "cell_type": "markdown",
   "metadata": {
    "_uuid": "52034f5a820fc6c956a229206a299c9ae7b63957"
   },
   "source": [
    "Feature Selection\n",
    "=============\n",
    "Selecting the right amount of features, and selecting the right features is crucial to avoid data leakage, overfitting or overfitting.\n",
    "\n",
    "Therefore we can now do feature importance plot."
   ]
  },
  {
   "cell_type": "code",
   "execution_count": 19,
   "metadata": {
    "_uuid": "d1a04fd6f6db8b841cf0b123c1d975119fa00f05",
    "scrolled": true
   },
   "outputs": [
    {
     "data": {
      "image/png": "[encoded data removed]",
      "text/plain": [
       "<Figure size 1080x1080 with 1 Axes>"
      ]
     },
     "metadata": {
      "needs_background": "light"
     },
     "output_type": "display_data"
    }
   ],
   "source": [
    "# plot feature importance\n",
    "fig, ax = plt.subplots(figsize=(15, 15))\n",
    "imp_plt = plot_importance(model, ax=ax)"
   ]
  },
  {
   "cell_type": "code",
   "execution_count": 20,
   "metadata": {
    "_uuid": "0b6b17b9b41eba70def2113b7ce4a26af1d9e5f0"
   },
   "outputs": [],
   "source": [
    "# features_to_plot = ['region', 'year']\n",
    "# inter1  =  pdp.pdp_interact(model=model, dataset=X_test, model_features=X.columns.tolist(), features=features_to_plot)\n",
    "\n",
    "# pdp.pdp_interact_plot(pdp_interact_out=inter1, feature_names=features_to_plot, plot_type='contour')\n",
    "\n",
    "# # Create the data that we will plot\n",
    "# pdp_goals = pdp.pdp_isolate(model=model, dataset=X_test, model_features=X.columns.tolist(), feature='month')\n",
    "\n",
    "# # plot it\n",
    "# pdp.pdp_plot(pdp_goals, 'Month')\n",
    "\n",
    "# # Create the data that we will plot\n",
    "# pdp_goals = pdp.pdp_isolate(model=model, dataset=X_test, model_features=X.columns.tolist(), feature='year')\n",
    "\n",
    "# # plot it\n",
    "# pdp.pdp_plot(pdp_goals, 'Year')\n",
    "\n",
    "# # Create the data that we will plot\n",
    "# pdp_goals = pdp.pdp_isolate(model=model, dataset=X_test, model_features=X.columns.tolist(), feature='region')\n",
    "\n",
    "# # plot it\n",
    "# pdp.pdp_plot(pdp_goals, 'Region')\n",
    "# plt.show()"
   ]
  },
  {
   "cell_type": "code",
   "execution_count": 21,
   "metadata": {
    "_uuid": "288b06b775af08715ff1d9123f15bcaf3331b86b"
   },
   "outputs": [],
   "source": [
    "row_to_show = 5\n",
    "data_for_prediction = X"
   ]
  },
  {
   "cell_type": "code",
   "execution_count": 22,
   "metadata": {
    "_uuid": "4f78656a93b24fcb82560703ea13883c1fd1c8ae"
   },
   "outputs": [],
   "source": [
    "# import shap  # package used to calculate Shap values\n",
    "\n",
    "# # Create object that can calculate shap values\n",
    "# explainer = shap.TreeExplainer(model)\n",
    "\n",
    "# # Calculate Shap values\n",
    "# shap_values = explainer.shap_values(data_for_prediction)\n",
    "\n"
   ]
  },
  {
   "cell_type": "markdown",
   "metadata": {
    "_uuid": "6557add378d3ebe23223e290e21dedbce8c12ffc"
   },
   "source": [
    "We now know how the model ranks the features, meaning which is the most important features.\n",
    "\n",
    "Now performing feature selection with scikit learn, can give us a better insight, in how many features might be the optimal number of features to include."
   ]
  },
  {
   "cell_type": "code",
   "execution_count": 23,
   "metadata": {
    "_uuid": "c0b83e8c931e1fd6014a52d72a104e8c5fc74750"
   },
   "outputs": [
    {
     "name": "stdout",
     "output_type": "stream",
     "text": [
      "Mean Absolute Error : 0.1520224781418765\t10.81257557618608 %\n",
      "{15: '10.81257557618608 %', 14: '10.81257557618608 %', 13: '10.799142640354495 %', 12: '10.89251096264245 %', 11: '11.328419198455274 %', 10: '11.381662565845224 %', 8: '11.519667921012552 %', 7: '11.559528378587792 %', 6: '11.9964178853038 %', 5: '12.358680709902766 %', 4: '13.494062739335327 %', 3: '14.288356258835549 %', 2: '21.164435234238578 %', 1: '21.406595495456905 %'}\n"
     ]
    }
   ],
   "source": [
    "mae = mean_absolute_error(predictions, y_test)\n",
    "error_percent = mae/data['AveragePrice'].mean()*100\n",
    "\n",
    "accuracy = mean_absolute_error(predictions, y_test)\n",
    "print(\"Mean Absolute Error : \" + str(mae) + \"\\t\" + str(error_percent) + ' %')\n",
    "\n",
    "#scores = cross_val_score(model, X, y, scoring='neg_mean_absolute_error', cv=5)\n",
    "#print(scores)\n",
    "#print('Mean Absolute Error: %2f' %(-1 * scores.mean()))\n",
    "# Fit model using each importance as a threshold\n",
    "thresholds = sort(model.feature_importances_)\n",
    "\n",
    "best_score = {}\n",
    "\n",
    "for thresh in thresholds:\n",
    "    # select features using threshold\n",
    "    selection = SelectFromModel(model, threshold=thresh, prefit=True)\n",
    "    select_X_train = selection.transform(X_train)\n",
    "    # train model\n",
    "    selection_model = XGBRegressor(n_jobs=4)\n",
    "    selection_model.fit(select_X_train, y_train)\n",
    "    # eval model\n",
    "    select_X_test = selection.transform(X_test)\n",
    "    predictions = selection_model.predict(select_X_test)\n",
    "    #print('Mean Absolute Error: %2f' %(-1 * scores.mean()))\n",
    "    accuracy = mean_absolute_error(predictions, y_test)\n",
    "    mae = mean_absolute_error(predictions, y_test)\n",
    "    error_percent = mae/data['AveragePrice'].mean()*100\n",
    "    #print(\"Thresh={0:f}, n={1:f}, Accuracy: {2:f}, Mean Absolute Error {3:f}: , err_perct: {4:f}%\".format(thresh, select_X_train.shape[1], accuracy * 100, mae, error_percent))\n",
    "    \n",
    "    best_score[select_X_train.shape[1]] = str(error_percent) + ' %'\n",
    "\n",
    "    \n",
    "print(best_score)"
   ]
  },
  {
   "cell_type": "code",
   "execution_count": 24,
   "metadata": {
    "_uuid": "9b6a476c18e22b5c2e6a01807532abb74b2c3896"
   },
   "outputs": [
    {
     "name": "stdout",
     "output_type": "stream",
     "text": [
      "Best amout of features: key: 13, value: 10.799142640354495 %\n"
     ]
    }
   ],
   "source": [
    "value = best_score.values()\n",
    "key = best_score.keys()\n",
    "\n",
    "min_val = min(value)\n",
    "min_key = min(best_score, key=best_score.get)\n",
    "print('Best amout of features: key: {0}, value: {1}'.format(min_key, min_val))"
   ]
  },
  {
   "cell_type": "markdown",
   "metadata": {
    "_uuid": "3ff8fcf3ea67618b39ff528b82583d3ca92814d0"
   },
   "source": [
    "We can now see that the best amount of features corresponding to the feature selection we just did, is 13. We do know which features is the most important from our feature importance plot, this means we can include top 13 features, for building a more optimized model.\n",
    "______________________"
   ]
  },
  {
   "cell_type": "markdown",
   "metadata": {
    "_uuid": "9f325b361c06f218bb09d68c121c2cd9bccbb031"
   },
   "source": [
    "Building a better model\n",
    "==================\n",
    "Now that we know which features is the most important ones, and we know which might possible be the best number of features to include. We can build an optimized model, and let it find the best hyper parameters using cross-validation.\n",
    "\n",
    "--------\n",
    "We start by selscting the data we need."
   ]
  },
  {
   "cell_type": "code",
   "execution_count": 25,
   "metadata": {
    "_uuid": "6f7a51da18983b85d4094cb154ba7db0d5ded9c0"
   },
   "outputs": [],
   "source": [
    "X_opt = data.drop(['AveragePrice', 'Date', 'XLarge Bags'], axis=1)\n",
    "y_opt = data['AveragePrice']\n",
    "\n",
    "opt_X_train, opt_X_test, opt_y_train, opt_y_test = train_test_split(X_opt, y_opt, test_size=0.33, random_state=42)"
   ]
  },
  {
   "cell_type": "markdown",
   "metadata": {
    "_uuid": "6d9611dfbcfa561b62c441d011a203b30e7eb85a"
   },
   "source": [
    "Now that we have the data, we can build our pipeline, using gridsearch cv to find the best hyperparameters."
   ]
  },
  {
   "cell_type": "code",
   "execution_count": 26,
   "metadata": {
    "_uuid": "47eb1a31b26d99db566adffaaa24bd1000022577"
   },
   "outputs": [
    {
     "name": "stderr",
     "output_type": "stream",
     "text": [
      "/home/max/anaconda3/lib/python3.7/site-packages/sklearn/model_selection/_search.py:643: DeprecationWarning: \"fit_params\" as a constructor argument was deprecated in version 0.19 and will be removed in version 0.21. Pass fit parameters to the \"fit\" method instead.\n",
      "  '\"fit\" method instead.', DeprecationWarning)\n"
     ]
    },
    {
     "data": {
      "text/plain": [
       "GridSearchCV(cv=5, error_score='raise-deprecating',\n",
       "       estimator=Pipeline(memory=None,\n",
       "     steps=[('xgb', XGBRegressor(base_score=0.5, booster='gbtree', colsample_bylevel=1,\n",
       "       colsample_bytree=1, gamma=0, learning_rate=0.1, max_delta_step=0,\n",
       "       max_depth=3, min_child_weight=1, missing=None, n_estimators=100,\n",
       "       n_jobs=4, nthread=None, objective='reg:linear', random_state=0,\n",
       "       reg_alpha=0, reg_lambda=1, scale_pos_weight=1, seed=None,\n",
       "       silent=True, subsample=1))]),\n",
       "       fit_params={'xgb__eval_set': [(       Store  Total Volume   small Hass   large Hass  extra large Hass  \\\n",
       "8604       6     218329.70     79239.58     26356.05           2998.74\n",
       "2608       8     391514.43    228324.13     72749.38            100.62\n",
       "14581     48       3907.40      1147.09        ...eragePrice, Length: 6023, dtype: float64)], 'xgb__early_stopping_rounds': 10, 'xgb__verbose': False},\n",
       "       iid='warn', n_jobs=None,\n",
       "       param_grid={'xgb__n_estimators': [100, 250, 500, 1000], 'xgb__learning_rate': [0.1, 0.25, 0.5, 1], 'xgb__max_depth': [6, 7, 8], 'xgb__min_child_weight': [0.25, 0.5, 1, 1.5]},\n",
       "       pre_dispatch='2*n_jobs', refit=True, return_train_score='warn',\n",
       "       scoring=None, verbose=0)"
      ]
     },
     "execution_count": 26,
     "metadata": {},
     "output_type": "execute_result"
    }
   ],
   "source": [
    "opt_pipeline = Pipeline([('xgb', XGBRegressor(n_jobs=4))])\n",
    "\n",
    "param_grid = {\n",
    "    \"xgb__n_estimators\": [100, 250, 500, 1000],\n",
    "    \"xgb__learning_rate\": [0.1, 0.25, 0.5, 1],\n",
    "    \"xgb__max_depth\": [6, 7, 8],\n",
    "    \"xgb__min_child_weight\": [0.25, 0.5, 1, 1.5]\n",
    "}\n",
    "\n",
    "fit_params = {\"xgb__eval_set\": [(opt_X_test, opt_y_test)], \n",
    "              \"xgb__early_stopping_rounds\": 10, \n",
    "              \"xgb__verbose\": False} \n",
    "\n",
    "searchCV = GridSearchCV(opt_pipeline, cv=5, param_grid=param_grid, fit_params=fit_params)\n",
    "searchCV.fit(opt_X_train, opt_y_train)"
   ]
  },
  {
   "cell_type": "code",
   "execution_count": 27,
   "metadata": {
    "_uuid": "c87f52b26671826e1220e6ab0f88d33c45baa77a"
   },
   "outputs": [
    {
     "data": {
      "text/plain": [
       "{'xgb__learning_rate': 0.1,\n",
       " 'xgb__max_depth': 7,\n",
       " 'xgb__min_child_weight': 0.25,\n",
       " 'xgb__n_estimators': 1000}"
      ]
     },
     "execution_count": 27,
     "metadata": {},
     "output_type": "execute_result"
    }
   ],
   "source": [
    "searchCV.best_params_"
   ]
  },
  {
   "cell_type": "code",
   "execution_count": 28,
   "metadata": {
    "_uuid": "c2066ad5e016de2061befcdccbbb09a84492dfb8"
   },
   "outputs": [
    {
     "name": "stderr",
     "output_type": "stream",
     "text": [
      "/home/max/anaconda3/lib/python3.7/site-packages/sklearn/utils/deprecation.py:125: FutureWarning: You are accessing a training score ('mean_train_score'), which will not be available by default any more in 0.21. If you need training scores, please set return_train_score=True\n",
      "  warnings.warn(*warn_args, **warn_kwargs)\n"
     ]
    },
    {
     "data": {
      "text/plain": [
       "array([0.93300274, 0.97062604, 0.98756294, 0.99239473, 0.93300274,\n",
       "       0.97062604, 0.98756294, 0.99239473, 0.93300274, 0.97062604,\n",
       "       0.98756294, 0.99239473, 0.93387919, 0.97070323, 0.98755524,\n",
       "       0.99005719, 0.96081643, 0.98566642, 0.99461515, 0.99502859,\n",
       "       0.96081643, 0.98566642, 0.99461515, 0.99502859, 0.96081643,\n",
       "       0.98566642, 0.99461515, 0.99502859, 0.96124856, 0.98481224,\n",
       "       0.99402574, 0.99577002, 0.97899288, 0.99367461, 0.99821771,\n",
       "       0.998396  , 0.97899288, 0.99367461, 0.99821771, 0.998396  ,\n",
       "       0.97899288, 0.99367461, 0.99821771, 0.998396  , 0.97816855,\n",
       "       0.99342704, 0.99815538, 0.99837799, 0.96956122, 0.98846413,\n",
       "       0.98926326, 0.98926326, 0.96956122, 0.98846413, 0.98926326,\n",
       "       0.98926326, 0.96956122, 0.98846413, 0.98926326, 0.98926326,\n",
       "       0.96908662, 0.98983526, 0.99088792, 0.99088792, 0.98418067,\n",
       "       0.99460168, 0.99469401, 0.99469401, 0.98418067, 0.99460168,\n",
       "       0.99469401, 0.99469401, 0.98418067, 0.99460168, 0.99469401,\n",
       "       0.99469401, 0.98425529, 0.99640046, 0.9965919 , 0.9965919 ,\n",
       "       0.99277086, 0.99743294, 0.99743294, 0.99743294, 0.99277086,\n",
       "       0.99743294, 0.99743294, 0.99743294, 0.99277086, 0.99743294,\n",
       "       0.99743294, 0.99743294, 0.99281133, 0.99830527, 0.99837695,\n",
       "       0.99837695, 0.97600331, 0.97637949, 0.97637949, 0.97637949,\n",
       "       0.97600331, 0.97637949, 0.97637949, 0.97637949, 0.97600331,\n",
       "       0.97637949, 0.97637949, 0.97637949, 0.98109194, 0.98261817,\n",
       "       0.98261817, 0.98261817, 0.98461239, 0.98486579, 0.98486579,\n",
       "       0.98486579, 0.98461239, 0.98486579, 0.98486579, 0.98486579,\n",
       "       0.98461239, 0.98486579, 0.98486579, 0.98486579, 0.98208937,\n",
       "       0.98208937, 0.98208937, 0.98208937, 0.99240718, 0.99240718,\n",
       "       0.99240718, 0.99240718, 0.99240718, 0.99240718, 0.99240718,\n",
       "       0.99240718, 0.99240718, 0.99240718, 0.99240718, 0.99240718,\n",
       "       0.99429299, 0.99429299, 0.99429299, 0.99429299, 0.9230181 ,\n",
       "       0.9230181 , 0.9230181 , 0.9230181 , 0.9230181 , 0.9230181 ,\n",
       "       0.9230181 , 0.9230181 , 0.9230181 , 0.9230181 , 0.9230181 ,\n",
       "       0.9230181 , 0.930407  , 0.930407  , 0.930407  , 0.930407  ,\n",
       "       0.92315372, 0.92315372, 0.92315372, 0.92315372, 0.92315372,\n",
       "       0.92315372, 0.92315372, 0.92315372, 0.92315372, 0.92315372,\n",
       "       0.92315372, 0.92315372, 0.91911867, 0.91911867, 0.91911867,\n",
       "       0.91911867, 0.92954412, 0.92954412, 0.92954412, 0.92954412,\n",
       "       0.92954412, 0.92954412, 0.92954412, 0.92954412, 0.92954412,\n",
       "       0.92954412, 0.92954412, 0.92954412, 0.92580578, 0.92580578,\n",
       "       0.92580578, 0.92580578])"
      ]
     },
     "execution_count": 28,
     "metadata": {},
     "output_type": "execute_result"
    }
   ],
   "source": [
    "searchCV.cv_results_['mean_train_score']"
   ]
  },
  {
   "cell_type": "code",
   "execution_count": 29,
   "metadata": {
    "_uuid": "0b8ba7a7bfd4a054f1cf2df3798d46dbf22854d7"
   },
   "outputs": [
    {
     "data": {
      "text/plain": [
       "array([0.87941149, 0.90325073, 0.91110953, 0.91278063, 0.87941149,\n",
       "       0.90325073, 0.91110953, 0.91278063, 0.87941149, 0.90325073,\n",
       "       0.91110953, 0.91278063, 0.88132106, 0.90397772, 0.91135892,\n",
       "       0.91235414, 0.89577399, 0.90963183, 0.91386233, 0.91403434,\n",
       "       0.89577399, 0.90963183, 0.91386233, 0.91403434, 0.89577399,\n",
       "       0.90963183, 0.91386233, 0.91403434, 0.89513885, 0.908714  ,\n",
       "       0.91307452, 0.91388443, 0.90286966, 0.91034949, 0.91264849,\n",
       "       0.91277454, 0.90286966, 0.91034949, 0.91264849, 0.91277454,\n",
       "       0.90286966, 0.91034949, 0.91264849, 0.91277454, 0.9030164 ,\n",
       "       0.91121508, 0.9136555 , 0.91374285, 0.89586131, 0.9027632 ,\n",
       "       0.90310086, 0.90310086, 0.89586131, 0.9027632 , 0.90310086,\n",
       "       0.90310086, 0.89586131, 0.9027632 , 0.90310086, 0.90310086,\n",
       "       0.89650807, 0.90397543, 0.90446821, 0.90446821, 0.9020847 ,\n",
       "       0.90563019, 0.9056653 , 0.9056653 , 0.9020847 , 0.90563019,\n",
       "       0.9056653 , 0.9056653 , 0.9020847 , 0.90563019, 0.9056653 ,\n",
       "       0.9056653 , 0.90224043, 0.90682058, 0.90686581, 0.90686581,\n",
       "       0.90097536, 0.90265577, 0.90265577, 0.90265577, 0.90097536,\n",
       "       0.90265577, 0.90265577, 0.90265577, 0.90097536, 0.90265577,\n",
       "       0.90265577, 0.90265577, 0.9027831 , 0.90479378, 0.90483186,\n",
       "       0.90483186, 0.87713047, 0.87724593, 0.87724593, 0.87724593,\n",
       "       0.87713047, 0.87724593, 0.87724593, 0.87724593, 0.87713047,\n",
       "       0.87724593, 0.87724593, 0.87724593, 0.8764254 , 0.87708521,\n",
       "       0.87708521, 0.87708521, 0.87905091, 0.87906692, 0.87906692,\n",
       "       0.87906692, 0.87905091, 0.87906692, 0.87906692, 0.87906692,\n",
       "       0.87905091, 0.87906692, 0.87906692, 0.87906692, 0.8775734 ,\n",
       "       0.8775734 , 0.8775734 , 0.8775734 , 0.87700383, 0.87700383,\n",
       "       0.87700383, 0.87700383, 0.87700383, 0.87700383, 0.87700383,\n",
       "       0.87700383, 0.87700383, 0.87700383, 0.87700383, 0.87700383,\n",
       "       0.87918157, 0.87918157, 0.87918157, 0.87918157, 0.79654028,\n",
       "       0.79654028, 0.79654028, 0.79654028, 0.79654028, 0.79654028,\n",
       "       0.79654028, 0.79654028, 0.79654028, 0.79654028, 0.79654028,\n",
       "       0.79654028, 0.79637887, 0.79637887, 0.79637887, 0.79637887,\n",
       "       0.78147857, 0.78147857, 0.78147857, 0.78147857, 0.78147857,\n",
       "       0.78147857, 0.78147857, 0.78147857, 0.78147857, 0.78147857,\n",
       "       0.78147857, 0.78147857, 0.78592827, 0.78592827, 0.78592827,\n",
       "       0.78592827, 0.7830995 , 0.7830995 , 0.7830995 , 0.7830995 ,\n",
       "       0.7830995 , 0.7830995 , 0.7830995 , 0.7830995 , 0.7830995 ,\n",
       "       0.7830995 , 0.7830995 , 0.7830995 , 0.77749013, 0.77749013,\n",
       "       0.77749013, 0.77749013])"
      ]
     },
     "execution_count": 29,
     "metadata": {},
     "output_type": "execute_result"
    }
   ],
   "source": [
    "searchCV.cv_results_['mean_test_score']"
   ]
  },
  {
   "cell_type": "code",
   "execution_count": 30,
   "metadata": {
    "_uuid": "5facbc97219cb33ded499e19805be47ab4b6029f"
   },
   "outputs": [
    {
     "name": "stderr",
     "output_type": "stream",
     "text": [
      "/home/max/anaconda3/lib/python3.7/site-packages/sklearn/utils/deprecation.py:125: FutureWarning: You are accessing a training score ('mean_train_score'), which will not be available by default any more in 0.21. If you need training scores, please set return_train_score=True\n",
      "  warnings.warn(*warn_args, **warn_kwargs)\n"
     ]
    },
    {
     "data": {
      "text/plain": [
       "(0.9708920840078304, 0.8686018582966984)"
      ]
     },
     "execution_count": 30,
     "metadata": {},
     "output_type": "execute_result"
    }
   ],
   "source": [
    "searchCV.cv_results_['mean_train_score'].mean(), searchCV.cv_results_['mean_test_score'].mean()"
   ]
  },
  {
   "cell_type": "code",
   "execution_count": 31,
   "metadata": {
    "_uuid": "b194ba766ee1e180fc548a31898c7cb7a9d17fb4"
   },
   "outputs": [],
   "source": [
    "opt_predictions = searchCV.predict(opt_X_test)"
   ]
  },
  {
   "cell_type": "code",
   "execution_count": 32,
   "metadata": {
    "_uuid": "27736e7e6a89415320b8e93d047dda580eb48ee3"
   },
   "outputs": [
    {
     "name": "stdout",
     "output_type": "stream",
     "text": [
      "Mean Absolute Error : 0.0788259887810108\n",
      "Error percentage: 5.606486432005447 %\n"
     ]
    }
   ],
   "source": [
    "mae = mean_absolute_error(opt_predictions, opt_y_test)\n",
    "print(\"Mean Absolute Error : \" + str(mae))\n",
    "\n",
    "error_percent = mae/data['AveragePrice'].mean()*100\n",
    "print(\"Error percentage: \" + str(error_percent) + ' %')"
   ]
  },
  {
   "cell_type": "markdown",
   "metadata": {
    "_uuid": "4823f2d483dccc0da2a404ecac40a5eec8ad098d"
   },
   "source": [
    "As we can see We have actually improved our model quite a bit, just with this basic optimazation and feature selection"
   ]
  },
  {
   "cell_type": "markdown",
   "metadata": {
    "_uuid": "7467f3930a254f97005bf994ab1d5c63baaf5525"
   },
   "source": [
    "features_to_plot = ['region', 'year']\n",
    "inter1  =  pdp.pdp_interact(model=searchCV, dataset=opt_X_test, model_features=X_opt.columns.tolist(), features=features_to_plot)\n",
    "\n",
    "pdp.pdp_interact_plot(pdp_interact_out=inter1, feature_names=features_to_plot, plot_type='contour')"
   ]
  },
  {
   "cell_type": "markdown",
   "metadata": {
    "_uuid": "de54177698ebe5520c092b8d550eed774dc1cf76"
   },
   "source": [
    "Futher Usage Of The Model\n",
    "=====================\n",
    "-----------------\n",
    "We can now use our model in other applications, by saving it and loading it in another python program. You can also build an API with it and the include it in an app, on a website, a bigger production system etc.\n",
    "\n",
    "\n",
    "Lets go ahead and save the model."
   ]
  },
  {
   "cell_type": "code",
   "execution_count": 33,
   "metadata": {
    "_uuid": "e02d798b1b7ea06facb89583ebf79790ad8436b1"
   },
   "outputs": [],
   "source": [
    "# joblib.dump(searchCV, \"xgboostmodel.joblib.dat\")"
   ]
  },
  {
   "cell_type": "markdown",
   "metadata": {
    "_uuid": "c7149ebf9605459aabfb3acb54aa68fa850f957f"
   },
   "source": [
    "For further information on how to load it into another application, lookup saving Gradient Boosting Models with joblib."
   ]
  },
  {
   "cell_type": "markdown",
   "metadata": {
    "_uuid": "553baff85d82eaf3e310320fa096b7558108f7b4"
   },
   "source": []
  }
 ],
 "metadata": {
  "kernelspec": {
   "display_name": "Python 3",
   "language": "python",
   "name": "python3"
  },
  "language_info": {
   "codemirror_mode": {
    "name": "ipython",
    "version": 3
   },
   "file_extension": ".py",
   "mimetype": "text/x-python",
   "name": "python",
   "nbconvert_exporter": "python",
   "pygments_lexer": "ipython3",
   "version": "3.7.0"
  }
 },
 "nbformat": 4,
 "nbformat_minor": 2
}
